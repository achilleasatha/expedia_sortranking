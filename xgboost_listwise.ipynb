{
 "cells": [
  {
   "cell_type": "markdown",
   "metadata": {},
   "source": [
    "#####  Lib import"
   ]
  },
  {
   "cell_type": "code",
   "execution_count": 2,
   "metadata": {},
   "outputs": [],
   "source": [
    "import pandas as pd\n",
    "import numpy as np\n",
    "import matplotlib.pyplot as plt\n",
    "import warnings\n",
    "from importlib import reload\n",
    "import seaborn as sns\n",
    "%load_ext autoreload\n",
    "%autoreload 2\n",
    "%matplotlib inline\n",
    "\n",
    "from dataprep.dataprep import DataPrep\n",
    "from rank.ranker import Ranker\n",
    "from pipeline.pipeline import Pipeline"
   ]
  },
  {
   "cell_type": "code",
   "execution_count": 3,
   "metadata": {},
   "outputs": [],
   "source": [
    "# Models\n",
    "import xgboost as xgb\n",
    "from xgboost import XGBRanker\n",
    "\n",
    "# Cross-val\n",
    "from sklearn.model_selection import KFold\n",
    "from sklearn.model_selection import cross_val_score\n",
    "\n",
    "# Metrics\n",
    "from sklearn.metrics import precision_score, recall_score, accuracy_score, average_precision_score\n",
    "\n",
    "# Processing\n",
    "from sklearn import preprocessing\n",
    "from sklearn.preprocessing import StandardScaler\n",
    "\n",
    "# Feature selection\n",
    "from sklearn.feature_selection import VarianceThreshold, SelectKBest, SelectFromModel"
   ]
  },
  {
   "cell_type": "markdown",
   "metadata": {},
   "source": [
    "##### Data import"
   ]
  },
  {
   "cell_type": "code",
   "execution_count": 4,
   "metadata": {},
   "outputs": [],
   "source": [
    "test_data = pd.read_csv(r'C:\\Users\\afragkoulis\\PyCharmProjects\\sortranking\\data\\test.csv')\n",
    "train_data = pd.read_csv(r'C:\\Users\\afragkoulis\\PyCharmProjects\\sortranking\\data\\train.csv')"
   ]
  },
  {
   "cell_type": "code",
   "execution_count": 29,
   "metadata": {},
   "outputs": [],
   "source": [
    "raw_train_data = train_data.copy()\n",
    "raw_test_data = test_data.copy()"
   ]
  },
  {
   "cell_type": "code",
   "execution_count": 30,
   "metadata": {},
   "outputs": [],
   "source": [
    "# from sklearn.preprocessing import Normalizer\n",
    "# nor = Normalizer(norm='l2', copy=True)\n",
    "# raw_test_data['srch_visitor_visit_nbr'] = nor.fit_transform(raw_test_data['srch_visitor_visit_nbr'].reset_index())\n",
    "# # raw_test_data['srch_adults_cnt'].reset_index().shape"
   ]
  },
  {
   "cell_type": "code",
   "execution_count": 31,
   "metadata": {},
   "outputs": [],
   "source": [
    "train_dataprep = DataPrep(raw_train_data)\n",
    "test_dataprep = DataPrep(raw_test_data)\n",
    "df_train = train_dataprep.return_df()\n",
    "df_test = test_dataprep.return_df().sort_values(['srch_id'])"
   ]
  },
  {
   "cell_type": "code",
   "execution_count": null,
   "metadata": {},
   "outputs": [],
   "source": [
    "df_train.to_csv('train_transformed.csv')\n",
    "df_test.to_csv('test_transformed.csv')\n",
    "# df_train = pd.read_csv('train_transformed.csv')\n",
    "# df_test = pd.read_csv('test_transformed.csv').sort_values(['srch_id'])"
   ]
  },
  {
   "cell_type": "markdown",
   "metadata": {},
   "source": [
    "##### Train"
   ]
  },
  {
   "cell_type": "code",
   "execution_count": 33,
   "metadata": {},
   "outputs": [],
   "source": [
    "# RandomState\n",
    "random_state = 1"
   ]
  },
  {
   "cell_type": "code",
   "execution_count": 34,
   "metadata": {},
   "outputs": [],
   "source": [
    "from sklearn.model_selection import train_test_split\n",
    "def split_data(df):\n",
    "    X = df.drop('prop_booking_bool', axis=1).copy()\n",
    "    y = df['prop_booking_bool'].copy()\n",
    "    return train_test_split(X, y, test_size=0.2, random_state=random_state)\n",
    "X_train, X_test, y_train, y_test = split_data(df_train)"
   ]
  },
  {
   "cell_type": "code",
   "execution_count": 35,
   "metadata": {},
   "outputs": [],
   "source": [
    "# xgtrain = xgb.DMatrix(X_train.values, y_train.values)\n",
    "# xgtest = xgb.DMatrix(X_test.values)"
   ]
  },
  {
   "cell_type": "code",
   "execution_count": 36,
   "metadata": {},
   "outputs": [],
   "source": [
    "def train_xgb_model(model, X_train, y_train, X_test, y_test, group, eval_group):\n",
    "    model.fit(X_train, y_train, group, eval_set=[(X_train, y_train), (X_test, y_test)], eval_group=eval_group)\n",
    "    y_train_pred = model.predict(X_train)\n",
    "    res_train = list(model.evals_result['eval_0'].values())[0]\n",
    "    ndcg_train = round(sum(res_train)/len(res_train), 2)\n",
    "    print('*'*20 + 'TRAIN' + '*'*20)\n",
    "    print('train avg precision: %.2f' % (average_precision_score(y_train, y_train_pred, average='weighted')))\n",
    "    print('train avg ndcg@50: %.2f' % ndcg_train)\n",
    "    print('*'*20 + 'TEST' + '*'*20)\n",
    "    y_test_pred = model.predict(X_test)\n",
    "    res_test = list(model.evals_result['eval_1'].values())[0]\n",
    "    ndcg_test = round(sum(res_test)/len(res_test), 2)\n",
    "    print('test avg precision: %.2f' % (average_precision_score(y_test, y_test_pred, average='weighted')))\n",
    "    print('test avg ndcg@50: %.2f' % ndcg_test)\n",
    "    return model"
   ]
  },
  {
   "cell_type": "code",
   "execution_count": 37,
   "metadata": {
    "scrolled": true
   },
   "outputs": [
    {
     "name": "stderr",
     "output_type": "stream",
     "text": [
      "C:\\Users\\afragkoulis\\AppData\\Local\\Continuum\\anaconda3\\lib\\site-packages\\xgboost\\core.py:587: FutureWarning: Series.base is deprecated and will be removed in a future version\n",
      "  if getattr(data, 'base', None) is not None and \\\n"
     ]
    },
    {
     "name": "stdout",
     "output_type": "stream",
     "text": [
      "********************TRAIN********************\n",
      "train avg precision: 0.07\n",
      "train avg ndcg@50: 0.72\n",
      "********************TEST********************\n",
      "test avg precision: 0.07\n",
      "test avg ndcg@50: 0.92\n"
     ]
    }
   ],
   "source": [
    "# XGBRanker # objective='rank:ndcg'\n",
    "group = X_train.groupby('srch_id').size().values\n",
    "eval_group = [X_train.groupby('srch_id').size().values, X_test.groupby('srch_id').size().values]\n",
    "xgb_model = train_xgb_model(XGBRanker(objective='rank:pairwise', eval_metric='ndcg@50', n_estimators=150, \n",
    "                                      learning_rate=0.1, subsample=0.9, random_state=random_state), \n",
    "                            X_train, y_train, X_test, y_test, group=group, eval_group=eval_group)"
   ]
  },
  {
   "cell_type": "code",
   "execution_count": 38,
   "metadata": {},
   "outputs": [],
   "source": [
    "# X_train.xgboost.plot_importance()"
   ]
  },
  {
   "cell_type": "code",
   "execution_count": 39,
   "metadata": {},
   "outputs": [],
   "source": [
    "# ranker = XGBRanker(n_estimators=150, learning_rate=0.1, subsample=0.9)\n",
    "# ranker.fit(X_train, y_train, group=X_train.groupby('srch_id').size().values, eval_metric=['ndcg', 'map@5-'])\n",
    "# y_predict = ranker.predict(X_)"
   ]
  },
  {
   "cell_type": "markdown",
   "metadata": {},
   "source": [
    "##### Rank & make submission"
   ]
  },
  {
   "cell_type": "code",
   "execution_count": 43,
   "metadata": {},
   "outputs": [],
   "source": [
    "final_df = df_test.reset_index().copy() \n",
    "final_df['rank'] = xgb_model.predict(df_test)"
   ]
  },
  {
   "cell_type": "code",
   "execution_count": 44,
   "metadata": {},
   "outputs": [
    {
     "data": {
      "text/html": [
       "<div>\n",
       "<style scoped>\n",
       "    .dataframe tbody tr th:only-of-type {\n",
       "        vertical-align: middle;\n",
       "    }\n",
       "\n",
       "    .dataframe tbody tr th {\n",
       "        vertical-align: top;\n",
       "    }\n",
       "\n",
       "    .dataframe thead th {\n",
       "        text-align: right;\n",
       "    }\n",
       "</style>\n",
       "<table border=\"1\" class=\"dataframe\">\n",
       "  <thead>\n",
       "    <tr style=\"text-align: right;\">\n",
       "      <th></th>\n",
       "      <th>srch_id</th>\n",
       "      <th>prop_key</th>\n",
       "      <th>rank</th>\n",
       "    </tr>\n",
       "  </thead>\n",
       "  <tbody>\n",
       "    <tr>\n",
       "      <th>0</th>\n",
       "      <td>-2146499282</td>\n",
       "      <td>401490</td>\n",
       "      <td>0.476926</td>\n",
       "    </tr>\n",
       "    <tr>\n",
       "      <th>1</th>\n",
       "      <td>-2146499282</td>\n",
       "      <td>3814956</td>\n",
       "      <td>0.614225</td>\n",
       "    </tr>\n",
       "    <tr>\n",
       "      <th>2</th>\n",
       "      <td>-2146499282</td>\n",
       "      <td>426482</td>\n",
       "      <td>0.907620</td>\n",
       "    </tr>\n",
       "    <tr>\n",
       "      <th>3</th>\n",
       "      <td>-2146499282</td>\n",
       "      <td>251172</td>\n",
       "      <td>0.926214</td>\n",
       "    </tr>\n",
       "    <tr>\n",
       "      <th>4</th>\n",
       "      <td>-2146499282</td>\n",
       "      <td>3255338</td>\n",
       "      <td>0.591575</td>\n",
       "    </tr>\n",
       "  </tbody>\n",
       "</table>\n",
       "</div>"
      ],
      "text/plain": [
       "      srch_id  prop_key      rank\n",
       "0 -2146499282    401490  0.476926\n",
       "1 -2146499282   3814956  0.614225\n",
       "2 -2146499282    426482  0.907620\n",
       "3 -2146499282    251172  0.926214\n",
       "4 -2146499282   3255338  0.591575"
      ]
     },
     "execution_count": 44,
     "metadata": {},
     "output_type": "execute_result"
    }
   ],
   "source": [
    "final_df[['srch_id', 'prop_key', 'rank']].head()"
   ]
  },
  {
   "cell_type": "code",
   "execution_count": 45,
   "metadata": {},
   "outputs": [],
   "source": [
    "submission_df = final_df[['srch_id', 'prop_key', 'rank']].sort_values(by=['srch_id', 'rank'], ascending=[False, False])\\\n",
    "                .drop('rank', axis=1).set_index('srch_id')"
   ]
  },
  {
   "cell_type": "code",
   "execution_count": 46,
   "metadata": {},
   "outputs": [
    {
     "data": {
      "text/html": [
       "<div>\n",
       "<style scoped>\n",
       "    .dataframe tbody tr th:only-of-type {\n",
       "        vertical-align: middle;\n",
       "    }\n",
       "\n",
       "    .dataframe tbody tr th {\n",
       "        vertical-align: top;\n",
       "    }\n",
       "\n",
       "    .dataframe thead th {\n",
       "        text-align: right;\n",
       "    }\n",
       "</style>\n",
       "<table border=\"1\" class=\"dataframe\">\n",
       "  <thead>\n",
       "    <tr style=\"text-align: right;\">\n",
       "      <th></th>\n",
       "      <th>prop_key</th>\n",
       "    </tr>\n",
       "    <tr>\n",
       "      <th>srch_id</th>\n",
       "      <th></th>\n",
       "    </tr>\n",
       "  </thead>\n",
       "  <tbody>\n",
       "    <tr>\n",
       "      <th>2146811608</th>\n",
       "      <td>263860</td>\n",
       "    </tr>\n",
       "    <tr>\n",
       "      <th>2146811608</th>\n",
       "      <td>246294</td>\n",
       "    </tr>\n",
       "    <tr>\n",
       "      <th>2146811608</th>\n",
       "      <td>250312</td>\n",
       "    </tr>\n",
       "    <tr>\n",
       "      <th>2146811608</th>\n",
       "      <td>582436</td>\n",
       "    </tr>\n",
       "    <tr>\n",
       "      <th>2146811608</th>\n",
       "      <td>512551</td>\n",
       "    </tr>\n",
       "  </tbody>\n",
       "</table>\n",
       "</div>"
      ],
      "text/plain": [
       "            prop_key\n",
       "srch_id             \n",
       "2146811608    263860\n",
       "2146811608    246294\n",
       "2146811608    250312\n",
       "2146811608    582436\n",
       "2146811608    512551"
      ]
     },
     "execution_count": 46,
     "metadata": {},
     "output_type": "execute_result"
    }
   ],
   "source": [
    "submission_df.head()"
   ]
  },
  {
   "cell_type": "code",
   "execution_count": 47,
   "metadata": {},
   "outputs": [],
   "source": [
    "submission_df.to_csv('submission.csv')"
   ]
  }
 ],
 "metadata": {
  "kernelspec": {
   "display_name": "Python 3",
   "language": "python",
   "name": "python3"
  },
  "language_info": {
   "codemirror_mode": {
    "name": "ipython",
    "version": 3
   },
   "file_extension": ".py",
   "mimetype": "text/x-python",
   "name": "python",
   "nbconvert_exporter": "python",
   "pygments_lexer": "ipython3",
   "version": "3.7.3"
  }
 },
 "nbformat": 4,
 "nbformat_minor": 2
}
