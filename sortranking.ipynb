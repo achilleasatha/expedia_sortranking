{
 "cells": [
  {
   "cell_type": "markdown",
   "metadata": {},
   "source": [
    "### Expedia Hotel Ranking"
   ]
  },
  {
   "cell_type": "markdown",
   "metadata": {},
   "source": [
    "##### Problem statement\n",
    "Each record of the dataset is an item in the search results and contains both search-level features (the input of the user, his country/city etc) and item-level features (information about the hotel). For each search in this dataset we observe which item was chosen at the end of the session.\n",
    "\n",
    "Given these features, try and learn a model for hotel relevance.\n",
    "\n",
    "##### Evaluation\n",
    "Evaluation Metric is NDCG@50. Relevance is given by propbookingbool\n",
    "(https://en.wikipedia.org/wiki/Discounted_cumulative_gain#Normalized_DCG)\n",
    "\n",
    "##### Data fields\n",
    "srch_id: unique identifier for a search <br/>\n",
    "visitor_id: visitor id used to submit the search <br/>\n",
    "visitor_visit_nbr: count of visits for the user who has submitted the search <br/>\n",
    "visitor_loc_country: country of the user who has submitted the search <br/>\n",
    "visitor_loc_region: region of the user who has submitted the search <br/>\n",
    "visitor_loc_city: city of the user who has submitted the search <br/>\n",
    "visitor_wr_member: indicates if user is part of the hcom loyalty program<br/>\n",
    "posa_continent: point of sale continent for a partiular search<br/>\n",
    "posa_country: point of sale country for a particular search<br/>\n",
    "srch_hcom_destination_id: destination id for a particular search <br/>\n",
    "srch_dest_longitude: destination center longitude for a particular search<br/>\n",
    "srch_dest_latitude: destination center latitude for a particular search<br/>\n",
    "srch_ci: date of check-in of a search<br/>\n",
    "srch_co: date of cehck-in of a search<br/>\n",
    "srch_ci_day: day of check-in of a search<br/>\n",
    "srch_co_day: day of check-out of a search<br/>\n",
    "srch_los: length of stay of a search (check-in - check-out date)<br/>\n",
    "srch_bw: booking window of a search (search-date - check-in date)<br/>\n",
    "srch_adults_cnt: number of adults for a search <br/>\n",
    "srch_children_cnt: number of children for a search <br/>\n",
    "srch_rm_cnt: number of requested rooms on the search <br/>\n",
    "mobile_bool: indicates if the search was submitted on a mobile browser<br/>\n",
    "mobile_app: indicates if the search was submitted on a mobile app<br/>\n",
    "device: identifies the device type type used for this search<br/>\n",
    "currency: currency relevant for the point of sale the search was submitted form<br/>\n",
    "position: the rank this property has been impressed on in a particular search<br/>\n",
    "travelad_bool: indicates if a porperty in a search was a paid advert<br/>\n",
    "dotd_bool: indicates if a property in a search was advertised as a special \"daily deal\"<br/>\n",
    "price_without_discount_local: discounted property price in local (posa specific) currency<br/>\n",
    "price_without_discount_usd: discounted property price in USD<br/>\n",
    "price_with_discount_local: non-discounted property price in local currency<br/>\n",
    "price_with_discount_usd: non-discounted property price in USD<br/>\n",
    "imp_drr: name of the pricing/discount rule relevant for this property<br/>\n",
    "click_bool: indicates if a property has been clicked in a particular search<br/>\n",
    "booking_bool: indicates if property has been booken in a given search<br/>\n",
    "prop_key: unique property identifier<br/>\n",
    "prop_brand_bool: indicates if a property has a popular brand<br/>\n",
    "prop_starrating: conventional hotel star rating (1-5 Stars)<br/>\n",
    "prop_super_region: the super region this property belongs to (EMEA, APAC, NA, LATAM)<br/>\n",
    "prop_continent: continent this property is located on (EU, NA, ...)<br/>\n",
    "prop_country: country this property is located in<br/>\n",
    "prop_market_id: higher granularity geo classification<br/>\n",
    "prop_submarket_id: highest granularity geo classification<br/>\n",
    "prop_room_capacity: max number of rooms this property has available<br/>\n",
    "prop_review_score: average guest review score for this property<br/>\n",
    "prop_review_count: count of customer reviews for this property<br/>\n",
    "prop_hostel_bool: indicates if a property is a hostel<br/>\n",
    "local_date: date for a particular search<br/>"
   ]
  },
  {
   "cell_type": "markdown",
   "metadata": {},
   "source": [
    "### Import libs"
   ]
  },
  {
   "cell_type": "code",
   "execution_count": null,
   "metadata": {},
   "outputs": [],
   "source": [
    "import pandas as pd\n",
    "import numpy as np\n",
    "import os\n",
    "import re\n",
    "import "
   ]
  },
  {
   "cell_type": "code",
   "execution_count": null,
   "metadata": {},
   "outputs": [],
   "source": []
  },
  {
   "cell_type": "markdown",
   "metadata": {},
   "source": [
    "### Submission\n",
    "Suppose that in our test file we only have two searches:\n",
    "• srchid 1234 with propkeys {546,678,678}\n",
    "• srchid 2345 with propkeys {987,849,839,930}\n",
    "\n",
    "the your submission should look like:\n",
    "srchid propkey\n",
    "1234 546\n",
    "1234 678\n",
    "1234 890 \n",
    "2345 930\n",
    "2345 839\n",
    "2345 987\n",
    "2345 849\n",
    "\n",
    "ASC srchid, properties in DESC ranking order"
   ]
  }
 ],
 "metadata": {
  "kernelspec": {
   "display_name": "Python 3",
   "language": "python",
   "name": "python3"
  },
  "language_info": {
   "codemirror_mode": {
    "name": "ipython",
    "version": 3
   },
   "file_extension": ".py",
   "mimetype": "text/x-python",
   "name": "python",
   "nbconvert_exporter": "python",
   "pygments_lexer": "ipython3",
   "version": "3.7.3"
  }
 },
 "nbformat": 4,
 "nbformat_minor": 2
}
